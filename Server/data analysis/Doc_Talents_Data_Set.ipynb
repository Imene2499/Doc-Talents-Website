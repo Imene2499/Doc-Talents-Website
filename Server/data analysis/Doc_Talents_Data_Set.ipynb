{
  "cells": [
    {
      "cell_type": "markdown",
      "metadata": {
        "id": "eZKK3KL9RXcP"
      },
      "source": [
        "# **Doc-Talents-Data set generating**"
      ]
    },
    {
      "cell_type": "code",
      "execution_count": null,
      "metadata": {
        "colab": {
          "base_uri": "https://localhost:8080/"
        },
        "id": "AFOINTqfRIzv",
        "outputId": "be2db8e7-843e-48f6-a8d7-00b95ae94853"
      },
      "outputs": [
        {
          "name": "stdout",
          "output_type": "stream",
          "text": [
            "Looking in indexes: https://pypi.org/simple, https://us-python.pkg.dev/colab-wheels/public/simple/\n",
            "Collecting mysql-connector-python\n",
            "  Downloading mysql_connector_python-8.0.32-cp39-cp39-manylinux1_x86_64.whl (23.5 MB)\n",
            "\u001b[2K     \u001b[90m━━━━━━━━━━━━━━━━━━━━━━━━━━━━━━━━━━━━━━━━\u001b[0m \u001b[32m23.5/23.5 MB\u001b[0m \u001b[31m66.3 MB/s\u001b[0m eta \u001b[36m0:00:00\u001b[0m\n",
            "\u001b[?25hRequirement already satisfied: protobuf<=3.20.3,>=3.11.0 in /usr/local/lib/python3.9/dist-packages (from mysql-connector-python) (3.20.3)\n",
            "Installing collected packages: mysql-connector-python\n",
            "Successfully installed mysql-connector-python-8.0.32\n"
          ]
        }
      ],
      "source": [
        "#installing mysql-connector-python\n",
        "!pip install mysql-connector-python"
      ]
    },
    {
      "cell_type": "code",
      "execution_count": null,
      "metadata": {
        "id": "_tfoM0fVSPRP"
      },
      "outputs": [],
      "source": [
        "import mysql.connector\n",
        "import random"
      ]
    },
    {
      "cell_type": "code",
      "execution_count": null,
      "metadata": {
        "colab": {
          "base_uri": "https://localhost:8080/"
        },
        "id": "1UcYzDMkRj9k",
        "outputId": "05b3b822-e603-40d2-fdb0-b9848fd0b6aa"
      },
      "outputs": [
        {
          "name": "stdout",
          "output_type": "stream",
          "text": [
            "Connection established successfully!\n"
          ]
        }
      ],
      "source": [
        "try:\n",
        "    cnx = mysql.connector.connect(\n",
        "        host='bokzvmdupkmxiv74l7jt-mysql.services.clever-cloud.com',\n",
        "        user='u2gfxdudha1kasbe',\n",
        "        password='JrIZFqUsiOnv2DAU2MU',\n",
        "        database='bokzvmdupkmxiv74l7jt',\n",
        "        port='20859'\n",
        "    )\n",
        "    print(\"Connection established successfully!\")\n",
        "except mysql.connector.Error as error:\n",
        "    print(\"Connection couldn't be established. Error message:\", error)"
      ]
    },
    {
      "cell_type": "code",
      "execution_count": null,
      "metadata": {
        "colab": {
          "base_uri": "https://localhost:8080/"
        },
        "id": "DgeOxHpdSLv3",
        "outputId": "9a722b44-57d6-4e9a-bae3-3d4fbecf4fd7"
      },
      "outputs": [
        {
          "name": "stdout",
          "output_type": "stream",
          "text": [
            "Database connected successfully.\n"
          ]
        }
      ],
      "source": [
        "# check if the connection is successful\n",
        "if cnx.is_connected():\n",
        "    print(\"Database connected successfully.\")\n"
      ]
    },
    {
      "cell_type": "code",
      "execution_count": null,
      "metadata": {
        "id": "7c_SuH7CUPNt"
      },
      "outputs": [],
      "source": [
        "# Create a cursor\n",
        "cursor = cnx.cursor()"
      ]
    },
    {
      "cell_type": "code",
      "execution_count": null,
      "metadata": {
        "colab": {
          "base_uri": "https://localhost:8080/"
        },
        "id": "KZlTcTJOiQSf",
        "outputId": "5f67862f-844d-4169-905c-b45fde1cf045"
      },
      "outputs": [
        {
          "name": "stdout",
          "output_type": "stream",
          "text": [
            "Table 'Doctorant' exists.\n"
          ]
        }
      ],
      "source": [
        "cursor = cnx.cursor()\n",
        "table_name = 'Doctorant'\n",
        "query = f\"SHOW TABLES LIKE '{table_name}'\"\n",
        "cursor.execute(query)\n",
        "result = cursor.fetchone()\n",
        "if result:\n",
        "    print(f\"Table '{table_name}' exists.\")\n",
        "else:\n",
        "    print(f\"Table '{table_name}' does not exist.\")\n"
      ]
    },
    {
      "cell_type": "code",
      "execution_count": null,
      "metadata": {
        "colab": {
          "base_uri": "https://localhost:8080/"
        },
        "id": "L8iNpStcZKZJ",
        "outputId": "fcc86a32-659a-4483-f37c-da21500ef349"
      },
      "outputs": [
        {
          "name": "stdout",
          "output_type": "stream",
          "text": [
            "('DPGR',)\n",
            "('Doctorant',)\n",
            "('Encadrant',)\n",
            "('Inscription',)\n",
            "('PV',)\n",
            "('Seminaire',)\n"
          ]
        }
      ],
      "source": [
        "cursor.execute(\"DROP TABLE doctorant;\")\n",
        "cursor.execute(\"SHOW TABLES\")\n",
        "for x in cursor:\n",
        "  print(x)"
      ]
    },
    {
      "cell_type": "code",
      "execution_count": null,
      "metadata": {
        "colab": {
          "base_uri": "https://localhost:8080/"
        },
        "id": "4QwM7P4stP9R",
        "outputId": "682956ae-6fdb-419f-d31d-74e97456ab10"
      },
      "outputs": [
        {
          "name": "stdout",
          "output_type": "stream",
          "text": [
            "('DPGR',)\n",
            "('Doctorant',)\n",
            "('Encadrant',)\n",
            "('Inscription',)\n",
            "('PV',)\n",
            "('Seminaire',)\n"
          ]
        }
      ],
      "source": [
        "cursor.execute(\"COMMIT\")\n",
        "cursor.execute(\"SHOW TABLES\")\n",
        "for table in cursor:\n",
        "    print(table)"
      ]
    },
    {
      "cell_type": "code",
      "execution_count": null,
      "metadata": {
        "id": "Tw7hI30cZME9"
      },
      "outputs": [],
      "source": [
        "# Define a list of specialities\n",
        "specialities = ['Data Science', 'Machine Learning', 'Computer Vision', 'Natural Language Processing', 'Robotics']\n",
        "\n",
        "# Define a list of universities\n",
        "universities = ['MIT', 'Stanford', 'Carnegie Mellon', 'University of Toronto', 'ETH Zurich']\n",
        "\n",
        "# Define a list of genders\n",
        "genders = ['M', 'F']\n",
        "\n",
        "# Define a list of doctorat types\n",
        "doctorat_types = ['Classique', 'Cotutelle', 'Convention Industrielle de Formation par la REcherche (CIFRE)']\n",
        "\n",
        "# Define a list of soutenu types\n",
        "soutenu_types = ['Oui', 'Non']\n",
        "\n",
        "laboratories = ['Laboratory A', 'Laboratory B', 'Laboratory C', 'Laboratory D']\n",
        "\n",
        "\n",
        "# Define a list of differe types\n",
        "differe_types = ['Oui', 'Non']\n",
        "\n",
        "# Define a list of abandon types\n",
        "abandon_types = ['Oui', 'Non']\n",
        "\n",
        "# Define a list of radie types\n",
        "radie_types = ['Oui', 'Non']\n",
        "\n",
        "# Define a list of PV IDs\n",
        "pv_ids = ['PV_1', 'PV_2', 'PV_3', 'PV_4', 'PV_5']\n",
        "\n",
        "# Define a list of seminar titles\n",
        "seminar_titles = ['How to Train Your Neural Network', 'Natural Language Generation', 'Image Segmentation using U-Net', 'Deep Reinforcement Learning', 'Optimization Techniques for Machine Learning']\n",
        "\n",
        "# Define a list of seminar summaries\n",
        "seminar_summaries = ['This seminar covers the basics of training neural networks', 'Learn how to generate natural language text using deep learning techniques', 'This seminar covers the U-Net architecture for image segmentation', 'Learn about the latest advancements in deep reinforcement learning', 'This seminar covers optimization techniques for machine learning algorithms']\n"
      ]
    },
    {
      "cell_type": "code",
      "execution_count": null,
      "metadata": {
        "id": "IbfScQM5bblc"
      },
      "outputs": [],
      "source": [
        "nom_list = [\"BOUDAH\",\"ATAMNA\",\"ABERKANE\",\"BENADJAOUD\",\"TOUTI\",\"HARRAT\",\"BERRICHE\",\"MADINA\",\"BELAID\",\"KELLAL\",\"BENSAADA\",\"BELAID\",\"BOUROUCHA\",\"CHOUKRANE\",\"ELTAHAWI\",\"TEBAL\",\"LAZZOUNI\",\"HENNOUNI\",\"DJAOUD\",\"SAIDI\",\"AHMED AOUMER\",\"FETTOUCHI\",\"MAHDI\",\"BERROU\",\"GUEMMOUN\",\"LARADJI\",\"AKIL\",\"MERNIZ\",\"ETCHIALI\",\"HAMOUDA\",\"DAOUD\",\"OUARAB\",\"FADHILI\",\"BENARAB\",\"ANTITENE\",\"NAIT YAHIA\",\"BELAKEBI\",\"BELAKBI\",\"BAIRI\",\"SERAF\",\"MEBAREK\",\"SACI\",\"BETTACHE\",\"HAMDAOUI\",\"BOUHALI\",\"FIEDLER\",\"ZITOUNI\",\"FEKHAR\",\"KHALDI\",\"BETTACHE\",\"LATRACHE\",\"MIDOUNI\",\"TOUAMI\",\"MELIH\",\"MEDJAHED\",\"NEFSI\",\"BELAIFA\",\"MESSAOUDI\",\"BENZIANE\",\"FOUKROUNE\",\"FERGUEN\",\"NOUAL\",\"CHALAL\",\"OULMI\",\"AITOUR\",\"RABIR\",\"MAOUCHE\",\"HOCINE\",\"HAMMAR\",\"GUENNOUN\",\"ZOUAOUI\",\"BOUAZIZ\",\"DJENDER\",\"BENBAIBECHE\",\"OULMI\",\"FATEH\",\"NOUAL AITOUR\",\"FELLAH\",\"NAILI\",\"MERAD\",\"CHERNAI\",\"FATNASSI\",\"HAMMACHE\",\"MILOUDI\",\"ZAOUI\",\"GHECHAM\",\"GRIGAHCENE\",\"DJELLAL\",\"HADDADOU\",\"CHEBARAKA\",\"MALDJI\",\"ISSIAKHEM\",\"HAMIMED\",\"BOUTAGHOU\",\"BOUARIF\",\"BERKANE\",\"NESIRA\",\"BOUDISSA\",\"ANGAR\",\"AGGAR\",\"BOUKROUT\",\"FATAH\",\"BOURAYA\",\"BOUARICHE\",\"LAYADI\",\"HADJ SADOK\",\"SAOULI\",\"HAOUSSINE\",\"HAOUSSINE\",\"BEN BAKIR\",\"BOUAROUDJ\",\"CHEIKH\",\"MECHRI\",\"MEHDAOUI\",\"AGAR\",\"SAOULI\",\"LADJAILIA\",\"BERRIM\",\"HAMID\",\"ABDESSELAM\",\"REZAK\",\"BOUAZIZI\",\"ALANE\",\"AGUENTIL\",\"BELGOURAI\",\"DJOUAHRA\",\"AZZOUG\",\"MAHI\",\"BOUDJERADA\",\"AMOURA\",\"NEKAA\",\"SAADI\",\"HAMDAOUI\",\"SLIMANE\",\"HADDADOU\",\"LAIDI\",\"ABDELHAMID\",\"ALLOUCHE\",\"MEDJEKANE\",\"ACHAIBOU\",\"DJELLOULI\",\"IDIR\",\"FERDI\",\"DEKIMECHE\",\"BOUNOUIOU\",\"HAMDAOUI\",\"HACHEMANE\",\"DJETTEN\",\"HAMZA\",\"AZARA\",\"DJETTEN\",\"HACHEMANE\",\"HAMDAOUI\",\"AROUSSI\",\"OUDAHMANE\",\"NOUIOUA\",\"ZENTAR\",\"LARBES\",\"BENDALI BRAHAM\",\"FICHOUCHE\",\"ZERGUI\",\"BELKACEMI\",\"AMALOU\",\"BELAIDI\",\"BENAMOUR\",\"BOUKHOUF\"]\n",
        "prenom_list = [\"Mohamed\", \"Ahmed\", \"Rachid\", \"Samira\", \"Fatima\", \"Salim\", \"Hicham\", \"Amira\", \"Djamila\", \"Nabil\", \"Zinedine\", \"Khadija\", \"Farid\", \"Karima\", \"Ali\", \"Houria\", \"Abdelkader\", \"Yasmina\", \"Omar\", \"Souad\", \"Hakim\", \"Leila\", \"Hamza\", \"Sabrina\", \"Youcef\", \"Malika\", \"Khaled\", \"Nassima\", \"Anis\", \"Meriem\", \"Reda\", \"Fatiha\", \"Walid\", \"Amina\", \"Sofiane\", \"Nadia\", \"Bilal\", \"Sihem\", \"Amine\", \"Hind\", \"Yacine\", \"Hanane\", \"Mehdi\", \"Saida\", \"Mustapha\", \"Samir\", \"Chaima\", \"Kamel\", \"Imene\", \"Tarek\", \"Halima\", \"Riad\", \"Selma\", \"Mounir\", \"Nesrine\", \"Zohra\", \"Yassine\", \"Nawel\", \"Brahim\", \"Hayat\", \"Faycal\", \"Nesma\", \"Mohamed Amine\", \"Fatima Zahra\", \"Amar\", \"Lila\", \"Ramzi\", \"Souhila\", \"Ayoub\", \"Imene Zahra\", \"Djamel\", \"Nour\", \"Nadir\", \"Karima Zohra\", \"Rafik\", \"Leila Zahra\", \"Anouar\", \"Naima\", \"Youssef\", \"Hanifa\", \"Anissa\", \"Abdallah\", \"Hafsa\", \"Zakaria\", \"Nesrin\", \"Amir\", \"Samia\", \"Sofian\", \"Sana\", \"Ahmed Taha\", \"Amel\", \"Abdelhakim\", \"Nesma Zahra\", \"Said\", \"Oumaima\", \"Mounia\", \"Walid Khaled\", \"Fatma\", \"Mokhtar\", \"Ines\"]"
      ]
    },
    {
      "cell_type": "code",
      "execution_count": null,
      "metadata": {
        "id": "s9OfQ5I4KsR0"
      },
      "outputs": [],
      "source": [
        "import random\n",
        "import datetime\n",
        "\n",
        "def random_date():\n",
        "    start_date = datetime.date(2012, 1, 1)\n",
        "    end_date = datetime.date(2021, 12, 31)\n",
        "    delta = end_date - start_date\n",
        "    random_days = random.randint(0, delta.days)\n",
        "    random_date = start_date + datetime.timedelta(days=random_days)\n",
        "    return random_date.strftime(\"%Y-%m-%d\")\n"
      ]
    },
    {
      "cell_type": "code",
      "execution_count": null,
      "metadata": {
        "id": "iDPks0sSb2te"
      },
      "outputs": [],
      "source": [
        "import random\n",
        "\n",
        "for i in range(100):\n",
        "    nom = random.choice(nom_list)\n",
        "    prenom = random.choice(prenom_list)\n",
        "    date_naissance = '1990-01-01'\n",
        "    sexe = random.choice(genders)\n",
        "    mail = f'{nom.lower()}.{prenom.lower()}@{random.choice(universities)}.edu'\n",
        "    telephone = f'({random.randint(100, 999)})-{random.randint(100, 999)}-{random.randint(1000, 9999)}'\n",
        "    type_doctorat = random.choice(doctorat_types)\n",
        "    etablissement_origine_master = random.choice(universities)\n",
        "    etablissement_origine_ingeniorat = random.choice(universities)\n",
        "    etablissement_origine_magistere = random.choice(universities)\n",
        "    specialite = random.choice(specialities)\n",
        "    intitule_sujet = f'{specialite} Thesis'\n",
        "    intitule_sujet_bis = f'{specialite} Thesis - Part 2'\n",
        "    pv_changement_these = random.choice(pv_ids)\n",
        "    premiere_inscription = random_date()\n",
        "    nombre_inscriptions = random.randint(1, 4)\n",
        "    date_fichier_central = random_date()\n",
        "    id_encadreur = random.randint(1, 20)\n",
        "    id_coencadreur = random.randint(1, 20)\n",
        "    laboratoire = random.choice(laboratories)\n",
        "    soutenu = random.choice(['Yes', 'No'])\n",
        "    date_soutenance = random_date()\n",
        "    radie = random.choice(['Yes', 'No'])\n",
        "    differe = random.choice(['Yes', 'No'])\n",
        "    abandon = random.choice(['Yes', 'No'])\n",
        "\n",
        "    insert_doctorant = \"\"\"\n",
        "    INSERT INTO `Doctorant` (`Id_Doctorant`, `nom`, `prenom`, `Date_naissance`, `sexe`, `mail`, `telephone`,\n",
        "    `TypeDoctorat`, `Etablissement_origine_Master`, `Etablissement_origine_ingeniorat`, `Etablissement_origine_Magistere`,\n",
        "    `Specialite`, `intitule_sujet`, `intitule_sujet_bis`, `PV_changement_these`, `Premiere_inscription`, `Nombre_inscriptions`,\n",
        "    `Date_fichier_central`, `Id_Encadreur`, `Id_CoEncadreur`, `laboratoire`, `soutenu`, `date_soutenance`, `radie`, `differe`, `abandon`)\n",
        "    VALUES (%s, %s, %s, %s, %s, %s, %s, %s, %s, %s, %s, %s, %s, %s, %s, %s, %s, %s, %s, %s, %s, %s, %s, %s, %s, %s)\n",
        "    \"\"\"\n",
        "\n",
        "    id_doctorant = f'D{i + 1:03}'\n",
        "    doctorant_data = (id_doctorant, nom, prenom, date_naissance, sexe, mail, telephone, type_doctorat,\n",
        "                      etablissement_origine_master, etablissement_origine_ingeniorat, etablissement_origine_magistere, specialite,\n",
        "                      intitule_sujet, intitule_sujet_bis, pv_changement_these, premiere_inscription, nombre_inscriptions,\n",
        "                      date_fichier_central, id_encadreur, id_coencadreur, laboratoire, soutenu, date_soutenance, radie, differe, abandon)\n",
        "                      \n",
        "    cursor.execute\n"
      ]
    },
    {
      "cell_type": "code",
      "execution_count": null,
      "metadata": {
        "colab": {
          "base_uri": "https://localhost:8080/"
        },
        "id": "3wa2ehMAb4X2",
        "outputId": "7584adfa-1741-4bc1-df8a-4fd0f7344a2d"
      },
      "outputs": [
        {
          "name": "stdout",
          "output_type": "stream",
          "text": [
            "Data inserted successfully!\n"
          ]
        }
      ],
      "source": [
        "#Committing the changes\n",
        "cnx.commit()\n",
        "print('Data inserted successfully!')"
      ]
    },
    {
      "cell_type": "code",
      "execution_count": null,
      "metadata": {
        "id": "8ESXf9Mun0Hf"
      },
      "outputs": [],
      "source": [
        "#Check if the data is inserted corrctly\n",
        "cursor.execute(\"SELECT * FROM Doctorant\")\n",
        "rows = cursor.fetchall()\n",
        "for row in rows:\n",
        "    print(row)\n"
      ]
    },
    {
      "cell_type": "code",
      "execution_count": null,
      "metadata": {
        "colab": {
          "base_uri": "https://localhost:8080/",
          "height": 467
        },
        "id": "HwxLETw2LyW8",
        "outputId": "1a61d3b5-c473-4538-e278-3b9768633091"
      },
      "outputs": [
        {
          "ename": "IntegrityError",
          "evalue": "ignored",
          "output_type": "error",
          "traceback": [
            "\u001b[0;31m---------------------------------------------------------------------------\u001b[0m",
            "\u001b[0;31mMySQLInterfaceError\u001b[0m                       Traceback (most recent call last)",
            "\u001b[0;32m/usr/local/lib/python3.9/dist-packages/mysql/connector/connection_cext.py\u001b[0m in \u001b[0;36mcmd_query\u001b[0;34m(self, query, raw, buffered, raw_as_string)\u001b[0m\n\u001b[1;32m    607\u001b[0m                 \u001b[0mquery\u001b[0m \u001b[0;34m=\u001b[0m \u001b[0mquery\u001b[0m\u001b[0;34m.\u001b[0m\u001b[0mencode\u001b[0m\u001b[0;34m(\u001b[0m\u001b[0;34m\"utf-8\"\u001b[0m\u001b[0;34m)\u001b[0m\u001b[0;34m\u001b[0m\u001b[0;34m\u001b[0m\u001b[0m\n\u001b[0;32m--> 608\u001b[0;31m             self._cmysql.query(\n\u001b[0m\u001b[1;32m    609\u001b[0m                 \u001b[0mquery\u001b[0m\u001b[0;34m,\u001b[0m\u001b[0;34m\u001b[0m\u001b[0;34m\u001b[0m\u001b[0m\n",
            "\u001b[0;31mMySQLInterfaceError\u001b[0m: Cannot add or update a child row: a foreign key constraint fails (`bokzvmdupkmxiv74l7jt`.`Doctorant`, CONSTRAINT `Doctorant_ibfk_1` FOREIGN KEY (`Id_Encadreur`) REFERENCES `Encadrant` (`Id_Encadreur`))",
            "\nThe above exception was the direct cause of the following exception:\n",
            "\u001b[0;31mIntegrityError\u001b[0m                            Traceback (most recent call last)",
            "\u001b[0;32m<ipython-input-52-9a289494d5f3>\u001b[0m in \u001b[0;36m<cell line: 1>\u001b[0;34m()\u001b[0m\n\u001b[0;32m----> 1\u001b[0;31m \u001b[0mresult\u001b[0m \u001b[0;34m=\u001b[0m \u001b[0mcursor\u001b[0m\u001b[0;34m.\u001b[0m\u001b[0mexecute\u001b[0m\u001b[0;34m(\u001b[0m\u001b[0minsert_doctorant\u001b[0m\u001b[0;34m,\u001b[0m \u001b[0mdoctorant_data\u001b[0m\u001b[0;34m)\u001b[0m\u001b[0;34m\u001b[0m\u001b[0;34m\u001b[0m\u001b[0m\n\u001b[0m\u001b[1;32m      2\u001b[0m \u001b[0mprint\u001b[0m\u001b[0;34m(\u001b[0m\u001b[0mresult\u001b[0m\u001b[0;34m)\u001b[0m\u001b[0;34m\u001b[0m\u001b[0;34m\u001b[0m\u001b[0m\n",
            "\u001b[0;32m/usr/local/lib/python3.9/dist-packages/mysql/connector/cursor_cext.py\u001b[0m in \u001b[0;36mexecute\u001b[0;34m(self, operation, params, multi)\u001b[0m\n\u001b[1;32m    328\u001b[0m \u001b[0;34m\u001b[0m\u001b[0m\n\u001b[1;32m    329\u001b[0m         \u001b[0;32mtry\u001b[0m\u001b[0;34m:\u001b[0m\u001b[0;34m\u001b[0m\u001b[0;34m\u001b[0m\u001b[0m\n\u001b[0;32m--> 330\u001b[0;31m             result = self._cnx.cmd_query(\n\u001b[0m\u001b[1;32m    331\u001b[0m                 \u001b[0mstmt\u001b[0m\u001b[0;34m,\u001b[0m\u001b[0;34m\u001b[0m\u001b[0;34m\u001b[0m\u001b[0m\n\u001b[1;32m    332\u001b[0m                 \u001b[0mraw\u001b[0m\u001b[0;34m=\u001b[0m\u001b[0mself\u001b[0m\u001b[0;34m.\u001b[0m\u001b[0m_raw\u001b[0m\u001b[0;34m,\u001b[0m\u001b[0;34m\u001b[0m\u001b[0;34m\u001b[0m\u001b[0m\n",
            "\u001b[0;32m/usr/local/lib/python3.9/dist-packages/mysql/connector/connection_cext.py\u001b[0m in \u001b[0;36mcmd_query\u001b[0;34m(self, query, raw, buffered, raw_as_string)\u001b[0m\n\u001b[1;32m    614\u001b[0m             )\n\u001b[1;32m    615\u001b[0m         \u001b[0;32mexcept\u001b[0m \u001b[0mMySQLInterfaceError\u001b[0m \u001b[0;32mas\u001b[0m \u001b[0merr\u001b[0m\u001b[0;34m:\u001b[0m\u001b[0;34m\u001b[0m\u001b[0;34m\u001b[0m\u001b[0m\n\u001b[0;32m--> 616\u001b[0;31m             raise get_mysql_exception(\n\u001b[0m\u001b[1;32m    617\u001b[0m                 \u001b[0merr\u001b[0m\u001b[0;34m.\u001b[0m\u001b[0merrno\u001b[0m\u001b[0;34m,\u001b[0m \u001b[0mmsg\u001b[0m\u001b[0;34m=\u001b[0m\u001b[0merr\u001b[0m\u001b[0;34m.\u001b[0m\u001b[0mmsg\u001b[0m\u001b[0;34m,\u001b[0m \u001b[0msqlstate\u001b[0m\u001b[0;34m=\u001b[0m\u001b[0merr\u001b[0m\u001b[0;34m.\u001b[0m\u001b[0msqlstate\u001b[0m\u001b[0;34m\u001b[0m\u001b[0;34m\u001b[0m\u001b[0m\n\u001b[1;32m    618\u001b[0m             ) from err\n",
            "\u001b[0;31mIntegrityError\u001b[0m: 1452 (23000): Cannot add or update a child row: a foreign key constraint fails (`bokzvmdupkmxiv74l7jt`.`Doctorant`, CONSTRAINT `Doctorant_ibfk_1` FOREIGN KEY (`Id_Encadreur`) REFERENCES `Encadrant` (`Id_Encadreur`))"
          ]
        }
      ],
      "source": [
        "result = cursor.execute(insert_doctorant, doctorant_data)\n",
        "print(result)"
      ]
    },
    {
      "cell_type": "code",
      "execution_count": null,
      "metadata": {
        "colab": {
          "base_uri": "https://localhost:8080/",
          "height": 200
        },
        "id": "95nGuxIkMFgD",
        "outputId": "53bb47df-4562-4785-9084-392df32ccbc4"
      },
      "outputs": [
        {
          "ename": "TypeError",
          "evalue": "ignored",
          "output_type": "error",
          "traceback": [
            "\u001b[0;31m---------------------------------------------------------------------------\u001b[0m",
            "\u001b[0;31mTypeError\u001b[0m                                 Traceback (most recent call last)",
            "\u001b[0;32m<ipython-input-34-a8926e64475a>\u001b[0m in \u001b[0;36m<cell line: 1>\u001b[0;34m()\u001b[0m\n\u001b[0;32m----> 1\u001b[0;31m \u001b[0mselected_name\u001b[0m \u001b[0;34m=\u001b[0m \u001b[0mrandom\u001b[0m\u001b[0;34m.\u001b[0m\u001b[0mchoice\u001b[0m\u001b[0;34m(\u001b[0m\u001b[0mnom_list\u001b[0m\u001b[0;34m,\u001b[0m\u001b[0;36m1\u001b[0m\u001b[0;34m)\u001b[0m\u001b[0;34m\u001b[0m\u001b[0;34m\u001b[0m\u001b[0m\n\u001b[0m\u001b[1;32m      2\u001b[0m \u001b[0;34m\u001b[0m\u001b[0m\n\u001b[1;32m      3\u001b[0m \u001b[0mprint\u001b[0m\u001b[0;34m(\u001b[0m\u001b[0;34m\"Selected name:\"\u001b[0m\u001b[0;34m,\u001b[0m \u001b[0mselected_name\u001b[0m\u001b[0;34m)\u001b[0m\u001b[0;34m\u001b[0m\u001b[0;34m\u001b[0m\u001b[0m\n",
            "\u001b[0;31mTypeError\u001b[0m: choice() takes 2 positional arguments but 3 were given"
          ]
        }
      ],
      "source": [
        "selected_name = random.choice(nom_list, 1)\n",
        "\n",
        "print(\"Selected name:\", selected_name)"
      ]
    },
    {
      "cell_type": "code",
      "execution_count": null,
      "metadata": {
        "colab": {
          "background_save": true,
          "base_uri": "https://localhost:8080/",
          "height": 346
        },
        "id": "ifEj1vajOFhi",
        "outputId": "4a3d6205-4ab0-46e2-a42a-0f06223f70ff"
      },
      "outputs": [
        {
          "ename": "InternalError",
          "evalue": "ignored",
          "output_type": "error",
          "traceback": [
            "\u001b[0;31m---------------------------------------------------------------------------\u001b[0m",
            "\u001b[0;31mInternalError\u001b[0m                             Traceback (most recent call last)",
            "\u001b[0;32m<ipython-input-57-95eb2c570086>\u001b[0m in \u001b[0;36m<cell line: 1>\u001b[0;34m()\u001b[0m\n\u001b[0;32m----> 1\u001b[0;31m \u001b[0mcursor\u001b[0m\u001b[0;34m.\u001b[0m\u001b[0mexecute\u001b[0m\u001b[0;34m(\u001b[0m\u001b[0;34m\"SHOW CREATE TABLE Doctorant;\"\u001b[0m\u001b[0;34m)\u001b[0m\u001b[0;34m\u001b[0m\u001b[0;34m\u001b[0m\u001b[0m\n\u001b[0m\u001b[1;32m      2\u001b[0m \u001b[0mresult\u001b[0m \u001b[0;34m=\u001b[0m \u001b[0mcursor\u001b[0m\u001b[0;34m.\u001b[0m\u001b[0mfetchone\u001b[0m\u001b[0;34m(\u001b[0m\u001b[0;34m)\u001b[0m\u001b[0;34m\u001b[0m\u001b[0;34m\u001b[0m\u001b[0m\n\u001b[1;32m      3\u001b[0m \u001b[0mprint\u001b[0m\u001b[0;34m(\u001b[0m\u001b[0mresult\u001b[0m\u001b[0;34m)\u001b[0m\u001b[0;34m\u001b[0m\u001b[0;34m\u001b[0m\u001b[0m\n",
            "\u001b[0;32m/usr/local/lib/python3.9/dist-packages/mysql/connector/cursor_cext.py\u001b[0m in \u001b[0;36mexecute\u001b[0;34m(self, operation, params, multi)\u001b[0m\n\u001b[1;32m    301\u001b[0m         \u001b[0;32mexcept\u001b[0m \u001b[0;34m(\u001b[0m\u001b[0mProgrammingError\u001b[0m\u001b[0;34m,\u001b[0m \u001b[0mReferenceError\u001b[0m\u001b[0;34m)\u001b[0m \u001b[0;32mas\u001b[0m \u001b[0merr\u001b[0m\u001b[0;34m:\u001b[0m\u001b[0;34m\u001b[0m\u001b[0;34m\u001b[0m\u001b[0m\n\u001b[1;32m    302\u001b[0m             \u001b[0;32mraise\u001b[0m \u001b[0mProgrammingError\u001b[0m\u001b[0;34m(\u001b[0m\u001b[0;34m\"Cursor is not connected\"\u001b[0m\u001b[0;34m,\u001b[0m \u001b[0;36m2055\u001b[0m\u001b[0;34m)\u001b[0m \u001b[0;32mfrom\u001b[0m \u001b[0merr\u001b[0m\u001b[0;34m\u001b[0m\u001b[0;34m\u001b[0m\u001b[0m\n\u001b[0;32m--> 303\u001b[0;31m         \u001b[0mself\u001b[0m\u001b[0;34m.\u001b[0m\u001b[0m_cnx\u001b[0m\u001b[0;34m.\u001b[0m\u001b[0mhandle_unread_result\u001b[0m\u001b[0;34m(\u001b[0m\u001b[0;34m)\u001b[0m\u001b[0;34m\u001b[0m\u001b[0;34m\u001b[0m\u001b[0m\n\u001b[0m\u001b[1;32m    304\u001b[0m \u001b[0;34m\u001b[0m\u001b[0m\n\u001b[1;32m    305\u001b[0m         \u001b[0mstmt\u001b[0m \u001b[0;34m=\u001b[0m \u001b[0;34m\"\"\u001b[0m\u001b[0;34m\u001b[0m\u001b[0;34m\u001b[0m\u001b[0m\n",
            "\u001b[0;32m/usr/local/lib/python3.9/dist-packages/mysql/connector/connection_cext.py\u001b[0m in \u001b[0;36mhandle_unread_result\u001b[0;34m(self, prepared)\u001b[0m\n\u001b[1;32m    919\u001b[0m             \u001b[0mself\u001b[0m\u001b[0;34m.\u001b[0m\u001b[0mconsume_results\u001b[0m\u001b[0;34m(\u001b[0m\u001b[0;34m)\u001b[0m\u001b[0;34m\u001b[0m\u001b[0;34m\u001b[0m\u001b[0m\n\u001b[1;32m    920\u001b[0m         \u001b[0;32melif\u001b[0m \u001b[0munread_result\u001b[0m\u001b[0;34m:\u001b[0m\u001b[0;34m\u001b[0m\u001b[0;34m\u001b[0m\u001b[0m\n\u001b[0;32m--> 921\u001b[0;31m             \u001b[0;32mraise\u001b[0m \u001b[0mInternalError\u001b[0m\u001b[0;34m(\u001b[0m\u001b[0;34m\"Unread result found\"\u001b[0m\u001b[0;34m)\u001b[0m\u001b[0;34m\u001b[0m\u001b[0;34m\u001b[0m\u001b[0m\n\u001b[0m\u001b[1;32m    922\u001b[0m \u001b[0;34m\u001b[0m\u001b[0m\n\u001b[1;32m    923\u001b[0m     def reset_session(\n",
            "\u001b[0;31mInternalError\u001b[0m: Unread result found"
          ]
        }
      ],
      "source": [
        "cursor.execute(\"SHOW CREATE TABLE Doctorant\")\n",
        "result = cursor.fetchone()\n",
        "print(result)"
      ]
    },
    {
      "cell_type": "code",
      "execution_count": null,
      "metadata": {
        "id": "5NPI3LCKTvYe"
      },
      "outputs": [],
      "source": []
    }
  ],
  "metadata": {
    "colab": {
      "provenance": []
    },
    "kernelspec": {
      "display_name": "Python 3",
      "name": "python3"
    },
    "language_info": {
      "name": "python"
    }
  },
  "nbformat": 4,
  "nbformat_minor": 0
}